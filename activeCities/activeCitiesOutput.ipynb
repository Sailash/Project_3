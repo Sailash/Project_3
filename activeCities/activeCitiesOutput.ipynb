{
 "cells": [
  {
   "cell_type": "code",
   "execution_count": 1,
   "id": "bf7906f4",
   "metadata": {},
   "outputs": [],
   "source": [
    "from kafka import KafkaConsumer\n",
    "import matplotlib.pyplot as plt\n",
    "import json\n",
    "import threading"
   ]
  },
  {
   "cell_type": "code",
   "execution_count": 2,
   "id": "de23a83e",
   "metadata": {},
   "outputs": [
    {
     "name": "stdout",
     "output_type": "stream",
     "text": [
      "consumer started ...\n"
     ]
    }
   ],
   "source": [
    "consumer = KafkaConsumer('activeCitiesInUsOutput',\n",
    "                         group_id='activeCitiesInUsOutput',\n",
    "                         bootstrap_servers=['localhost:9092'],\n",
    "                        )\n",
    "print(\"consumer started ...\")"
   ]
  },
  {
   "cell_type": "code",
   "execution_count": 3,
   "id": "9f4fdb5c",
   "metadata": {},
   "outputs": [],
   "source": [
    "x = {}"
   ]
  },
  {
   "cell_type": "code",
   "execution_count": 4,
   "id": "8ac40971",
   "metadata": {},
   "outputs": [],
   "source": [
    "def plot():\n",
    "    global x\n",
    "    for message in consumer:\n",
    "        x[json.loads((message.value).decode(\"utf-8\"))[\"city\"]] = json.loads((message.value).decode(\"utf-8\"))[\"city_count\"]"
   ]
  },
  {
   "cell_type": "code",
   "execution_count": 5,
   "id": "5af19abd",
   "metadata": {},
   "outputs": [],
   "source": [
    "plot_thread = threading.Thread(target=plot)"
   ]
  },
  {
   "cell_type": "code",
   "execution_count": 6,
   "id": "1869bb85",
   "metadata": {},
   "outputs": [],
   "source": [
    "plot_thread.start()"
   ]
  },
  {
   "cell_type": "code",
   "execution_count": 18,
   "id": "f187076c",
   "metadata": {},
   "outputs": [
    {
     "data": {
      "image/png": "[encoded data removed]",
      "text/plain": [
       "<Figure size 864x432 with 1 Axes>"
      ]
     },
     "metadata": {
      "needs_background": "light"
     },
     "output_type": "display_data"
    }
   ],
   "source": [
    "try:\n",
    "    fig = plt.figure(figsize = (12, 6))\n",
    "    x = dict(sorted(x.items(), key=lambda item: item[1], reverse=True))\n",
    "\n",
    "    plt.bar([*x.keys()][:10], [*x.values()][:10], width = 0.5)\n",
    "\n",
    "    plt.xlabel(\"city\", fontsize=15)\n",
    "    plt.ylabel(\"No. of citys\", fontsize=15)\n",
    "    plt.title(\"Active US Cities In Meetup\", fontsize=15)\n",
    "    plt.show()\n",
    "except:\n",
    "    print(f\"atleast 10 data needed but {len(x)} data is there\")"
   ]
  },
  {
   "cell_type": "code",
   "execution_count": null,
   "id": "8bf4a390",
   "metadata": {},
   "outputs": [],
   "source": []
  }
 ],
 "metadata": {
  "kernelspec": {
   "display_name": "Python 3",
   "language": "python",
   "name": "python3"
  },
  "language_info": {
   "codemirror_mode": {
    "name": "ipython",
    "version": 3
   },
   "file_extension": ".py",
   "mimetype": "text/x-python",
   "name": "python",
   "nbconvert_exporter": "python",
   "pygments_lexer": "ipython3",
   "version": "3.6.14"
  }
 },
 "nbformat": 4,
 "nbformat_minor": 5
}
