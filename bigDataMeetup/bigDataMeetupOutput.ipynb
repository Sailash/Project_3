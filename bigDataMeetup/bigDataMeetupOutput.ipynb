{
 "cells": [
  {
   "cell_type": "code",
   "execution_count": 1,
   "source": [
    "from kafka import KafkaConsumer\n",
    "import matplotlib.pyplot as plt\n",
    "import json\n",
    "import threading"
   ],
   "outputs": [],
   "metadata": {}
  },
  {
   "cell_type": "code",
   "execution_count": 2,
   "source": [
    "consumer = KafkaConsumer('output',\n",
    "                         group_id='output',\n",
    "                         bootstrap_servers=['localhost:9092'],\n",
    "                        )\n",
    "print(\"consumer started ...\")"
   ],
   "outputs": [
    {
     "output_type": "stream",
     "name": "stdout",
     "text": [
      "consumer started ...\n"
     ]
    }
   ],
   "metadata": {}
  },
  {
   "cell_type": "code",
   "execution_count": 3,
   "source": [
    "x = {}"
   ],
   "outputs": [],
   "metadata": {}
  },
  {
   "cell_type": "code",
   "execution_count": 33,
   "source": [
    "def plot():\n",
    "    global x\n",
    "    for message in consumer:\n",
    "        x[json.loads((message.value).decode(\"utf-8\"))[\"country\"]] = json.loads((message.value).decode(\"utf-8\"))[\"country_count\"]"
   ],
   "outputs": [],
   "metadata": {}
  },
  {
   "cell_type": "code",
   "execution_count": 34,
   "source": [
    "plot_thread = threading.Thread(target=plot)"
   ],
   "outputs": [],
   "metadata": {}
  },
  {
   "cell_type": "code",
   "execution_count": 35,
   "source": [
    "plot_thread.start()"
   ],
   "outputs": [],
   "metadata": {}
  },
  {
   "cell_type": "code",
   "execution_count": 40,
   "source": [
    "try:\n",
    "    fig = plt.figure(figsize = (12, 6))\n",
    "    x = dict(sorted(x.items(), key=lambda item: item[1], reverse=True))\n",
    "\n",
    "    plt.bar([*x.keys()][:], [*x.values()][:], width = 0.5)\n",
    "\n",
    "    plt.xlabel(\"country\")\n",
    "    plt.ylabel(\"No. of country\")\n",
    "    plt.title(\"Big data Meetup Events events scheduled in each country\")\n",
    "    plt.show()\n",
    "except:\n",
    "    print(f\"atleast 10 data needed but {len(x)} data is there\")"
   ],
   "outputs": [
    {
     "output_type": "display_data",
     "data": {
      "text/plain": [
       "<Figure size 864x432 with 1 Axes>"
      ],
      "image/png": "[encoded data removed]"
     },
     "metadata": {
      "needs_background": "light"
     }
    }
   ],
   "metadata": {}
  },
  {
   "cell_type": "code",
   "execution_count": null,
   "source": [],
   "outputs": [],
   "metadata": {}
  }
 ],
 "metadata": {
  "kernelspec": {
   "display_name": "Python 3",
   "language": "python",
   "name": "python3"
  },
  "language_info": {
   "codemirror_mode": {
    "name": "ipython",
    "version": 3
   },
   "file_extension": ".py",
   "mimetype": "text/x-python",
   "name": "python",
   "nbconvert_exporter": "python",
   "pygments_lexer": "ipython3",
   "version": "3.6.14"
  }
 },
 "nbformat": 4,
 "nbformat_minor": 5
}