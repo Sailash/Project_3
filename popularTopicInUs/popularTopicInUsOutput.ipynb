{
 "cells": [
  {
   "cell_type": "code",
   "execution_count": 1,
   "id": "46ff2a94",
   "metadata": {},
   "outputs": [],
   "source": [
    "from kafka import KafkaConsumer\n",
    "import matplotlib.pyplot as plt\n",
    "import json\n",
    "import threading"
   ]
  },
  {
   "cell_type": "code",
   "execution_count": 2,
   "id": "8d3aa22a",
   "metadata": {},
   "outputs": [
    {
     "name": "stdout",
     "output_type": "stream",
     "text": [
      "consumer started ...\n"
     ]
    }
   ],
   "source": [
    "consumer = KafkaConsumer('popularTopicsInUsOutput',\n",
    "                         group_id='popularTopicsInUsOutput',\n",
    "                         bootstrap_servers=['localhost:9092'],\n",
    "                        )\n",
    "print(\"consumer started ...\")"
   ]
  },
  {
   "cell_type": "code",
   "execution_count": 3,
   "id": "fdf74d36",
   "metadata": {},
   "outputs": [],
   "source": [
    "x = {}"
   ]
  },
  {
   "cell_type": "code",
   "execution_count": 4,
   "id": "ce0f499f",
   "metadata": {},
   "outputs": [],
   "source": [
    "def plot():\n",
    "    global x\n",
    "    for message in consumer:\n",
    "        x[json.loads((message.value).decode(\"utf-8\"))[\"topic\"]] = json.loads((message.value).decode(\"utf-8\"))[\"total_count\"]"
   ]
  },
  {
   "cell_type": "code",
   "execution_count": 5,
   "id": "770e1b37",
   "metadata": {},
   "outputs": [],
   "source": [
    "plot_thread = threading.Thread(target=plot)"
   ]
  },
  {
   "cell_type": "code",
   "execution_count": 6,
   "id": "3ae7a005",
   "metadata": {},
   "outputs": [],
   "source": [
    "plot_thread.start()"
   ]
  },
  {
   "cell_type": "code",
   "execution_count": 10,
   "id": "8dba18d0",
   "metadata": {},
   "outputs": [
    {
     "data": {
      "image/png": "[encoded data removed]",
      "text/plain": [
       "<Figure size 1080x432 with 1 Axes>"
      ]
     },
     "metadata": {
      "needs_background": "light"
     },
     "output_type": "display_data"
    }
   ],
   "source": [
    "try:\n",
    "    fig = plt.figure(figsize = (15, 6))\n",
    "    x = dict(sorted(x.items(), key=lambda item: item[1], reverse=True))\n",
    "\n",
    "    plt.bar([*x.keys()][:10], [*x.values()][:10], width = 0.5)\n",
    "\n",
    "    plt.xlabel(\"topics\", fontsize=15)\n",
    "    plt.ylabel(\"No. of topics\", fontsize=15)\n",
    "    plt.title(\"popular US topics in meetup\", fontsize=15)\n",
    "    plt.show()\n",
    "except:\n",
    "    print(f\"atleast 10 data needed but {len(x)} data is there\")"
   ]
  },
  {
   "cell_type": "code",
   "execution_count": null,
   "id": "618bdd02",
   "metadata": {},
   "outputs": [],
   "source": []
  }
 ],
 "metadata": {
  "kernelspec": {
   "display_name": "Python 3",
   "language": "python",
   "name": "python3"
  },
  "language_info": {
   "codemirror_mode": {
    "name": "ipython",
    "version": 3
   },
   "file_extension": ".py",
   "mimetype": "text/x-python",
   "name": "python",
   "nbconvert_exporter": "python",
   "pygments_lexer": "ipython3",
   "version": "3.6.14"
  }
 },
 "nbformat": 4,
 "nbformat_minor": 5
}
