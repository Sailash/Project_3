{
 "cells": [
  {
   "cell_type": "code",
   "execution_count": 1,
   "source": [
    "from kafka import KafkaConsumer\n",
    "import matplotlib.pyplot as plt\n",
    "import json\n",
    "import threading"
   ],
   "outputs": [],
   "metadata": {}
  },
  {
   "cell_type": "code",
   "execution_count": 2,
   "source": [
    "consumer = KafkaConsumer('output',\n",
    "                         group_id='output',\n",
    "                         bootstrap_servers=['localhost:9092'],\n",
    "                        )\n",
    "print(\"consumer started ...\")"
   ],
   "outputs": [
    {
     "output_type": "stream",
     "name": "stdout",
     "text": [
      "consumer started ...\n"
     ]
    }
   ],
   "metadata": {}
  },
  {
   "cell_type": "code",
   "execution_count": 3,
   "source": [
    "x = {}"
   ],
   "outputs": [],
   "metadata": {}
  },
  {
   "cell_type": "code",
   "execution_count": 4,
   "source": [
    "def plot():\n",
    "    global x\n",
    "    for message in consumer:\n",
    "        x[json.loads((message.value).decode(\"utf-8\"))[\"topic\"]] = json.loads((message.value).decode(\"utf-8\"))[\"total_count\"]"
   ],
   "outputs": [],
   "metadata": {}
  },
  {
   "cell_type": "code",
   "execution_count": 5,
   "source": [
    "plot_thread = threading.Thread(target=plot)"
   ],
   "outputs": [],
   "metadata": {}
  },
  {
   "cell_type": "code",
   "execution_count": 6,
   "source": [
    "plot_thread.start()"
   ],
   "outputs": [],
   "metadata": {}
  },
  {
   "cell_type": "code",
   "execution_count": 13,
   "source": [
    "try:\n",
    "    fig = plt.figure(figsize = (15, 6))\n",
    "    x = dict(sorted(x.items(), key=lambda item: item[1], reverse=True))\n",
    "\n",
    "    plt.bar([*x.keys()][:10], [*x.values()][:10], width = 0.5)\n",
    "\n",
    "    plt.xlabel(\"topics\")\n",
    "    plt.ylabel(\"No. of topics\")\n",
    "    plt.title(\"popular US topics in meetup\")\n",
    "    plt.show()\n",
    "except:\n",
    "    print(f\"atleast 10 data needed but {len(x)} data is there\")"
   ],
   "outputs": [
    {
     "output_type": "display_data",
     "data": {
      "text/plain": [
       "<Figure size 1080x432 with 1 Axes>"
      ],
      "image/png": "[encoded data removed]"
     },
     "metadata": {
      "needs_background": "light"
     }
    }
   ],
   "metadata": {}
  },
  {
   "cell_type": "code",
   "execution_count": null,
   "source": [],
   "outputs": [],
   "metadata": {}
  }
 ],
 "metadata": {
  "kernelspec": {
   "display_name": "Python 3",
   "language": "python",
   "name": "python3"
  },
  "language_info": {
   "codemirror_mode": {
    "name": "ipython",
    "version": 3
   },
   "file_extension": ".py",
   "mimetype": "text/x-python",
   "name": "python",
   "nbconvert_exporter": "python",
   "pygments_lexer": "ipython3",
   "version": "3.6.14"
  }
 },
 "nbformat": 4,
 "nbformat_minor": 5
}